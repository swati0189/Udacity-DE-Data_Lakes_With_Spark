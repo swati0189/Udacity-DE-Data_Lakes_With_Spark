{
 "cells": [
  {
   "cell_type": "code",
   "execution_count": 10,
   "metadata": {
    "editable": true
   },
   "outputs": [],
   "source": [
    "import configparser\n",
    "from datetime import datetime\n",
    "import os\n",
    "from pyspark.sql import SparkSession\n",
    "from pyspark.sql.functions import udf, col\n",
    "from pyspark.sql.functions import year, month, dayofmonth, hour, weekofyear, date_format\n",
    "from pyspark.sql import functions as f\n",
    "from pyspark.sql import types as t"
   ]
  },
  {
   "cell_type": "code",
   "execution_count": 11,
   "metadata": {
    "editable": true
   },
   "outputs": [],
   "source": [
    "def create_spark_session():\n",
    "    \"\"\"\n",
    "    Creating spark session\n",
    "    \n",
    "    \"\"\"\n",
    "    spark = SparkSession \\\n",
    "        .builder \\\n",
    "        .config(\"spark.jars.packages\", \"org.apache.hadoop:hadoop-aws:2.7.0\") \\\n",
    "        .getOrCreate()\n",
    "    return spark"
   ]
  },
  {
   "cell_type": "code",
   "execution_count": 12,
   "metadata": {
    "editable": true
   },
   "outputs": [],
   "source": [
    "def process_song_data(spark, input_data, output_data):\n",
    "    # get filepath to song data file\n",
    "    \n",
    "    print ('song_data file preparation started')\n",
    "    song_data = input_data + \"song-data/*/*/*/*.json\"\n",
    "    \n",
    "    print('song_datafile preparation completed')\n",
    "    \n",
    "    \n",
    "    # read song data file    \n",
    "    df = spark.read.json(song_data)\n",
    "    \n",
    "    df.createOrReplaceTempView('songs')\n",
    "\n",
    "    # extract columns to create songs table\n",
    "    songs_table = df.select(df.song_id, \\\n",
    "                            df.title, \\\n",
    "                            df.artist_id, \\\n",
    "                            df.year, \\\n",
    "                            df.duration) \\\n",
    "                    .dropDuplicates([\"song_id\"])\n",
    "    \n",
    "    print('Songs_Table DataFrame Created')\n",
    "    \n",
    "\n",
    "\n",
    "   # write songs table to parquet files partitioned by year and artist\n",
    "     \n",
    "    songs_table.write.parquet(output_data+'songs/'+'songs.parquet', partitionBy=['year','artist_id'])\n",
    "    \n",
    "    print('Song_Table written to parquet at location:' + output_data+'songs/'+'songs.parquet')\n",
    "\n",
    "\n",
    "    # extract columns to create artists table\n",
    "    artists_table = df.select(df.artist_id,\\\n",
    "                             df.artist_name,\\\n",
    "                             df.artist_location,\\\n",
    "                             df.artist_latitude,\\\n",
    "                             df.artist_longitude)\\\n",
    "                            .dropDuplicates([\"artist_id\"])\n",
    "    \n",
    "    print('Artists_Table DataFrame Created')\n",
    "    \n",
    "    \n",
    "    \n",
    "    artists_table.createOrReplaceTempView('artists')\n",
    "        \n",
    "    # write artists table to parquet files\n",
    "    artists_table.write.parquet(output_data + 'artists/' + 'artists.parquet', partitionBy=['artist_id'] )\n",
    "    \n",
    "    print('Artists_Table written to parquet at location:' + output_data+'artists/'+'artists.parquet')\n"
   ]
  },
  {
   "cell_type": "code",
   "execution_count": 13,
   "metadata": {
    "editable": true
   },
   "outputs": [],
   "source": [
    "def process_log_data(spark, input_data, output_data):\n",
    "    # get filepath to log data file\n",
    "    \n",
    "    print ('log_data file preparation started')\n",
    "   \n",
    "    log_data = input_data + \"{}log-data/*/*/*.json\"\n",
    "    \n",
    "    print ('log_data file preparation Completed')\n",
    "    \n",
    "    # read log data file\n",
    "    df =  spark.read.json(log_data)\n",
    "    \n",
    "    # filter by actions for song plays\n",
    "    df = df.filter(df['page'] == \"NextSong\")\n",
    "    \n",
    "    df.createOrReplaceTempView(\"logs\")\n",
    "    \n",
    "    users_table = df.select(df.userId,\\\n",
    "                           df.firstName,\\\n",
    "                           df.lastName,\\\n",
    "                           df.gender,\\\n",
    "                           df.level)\\\n",
    "                          .dropDuplicates([\"userId\"])\n",
    "    \n",
    "    print('Users_Table DataFrame Created')\n",
    "    \n",
    "    # write users table to parquet files\n",
    "    users_table.write.parquet(output_data + 'users/' + 'users.parquet', partitionBy = ['userId'])\n",
    "    \n",
    "    print('Users_Table written to parquet at location:' + output_data+'users/'+'users.parquet')\n",
    "    \n",
    "    # create datetime column from original timestamp column\n",
    "    get_timestamp = udf(lambda x : datetime.fromtimestamp(x/1000.0).strftime('%Y-%m-%d %H:%M:%S'))\n",
    "    df = df.withColumn('timestamp', get_timestamp(df.ts))\n",
    "    \n",
    "    df.createOrReplaceTempView(\"logs\")\n",
    "     \n",
    "    \n",
    "    # extract columns to create time table\n",
    "    time_table = df.select(\n",
    "                    f.col(\"timestamp\").alias(\"start_time\"),\n",
    "                    f.hour(\"timestamp\").alias('hour'),\n",
    "                    f.dayofmonth(\"timestamp\").alias('day'),\n",
    "                    f.weekofyear(\"timestamp\").alias('week'),\n",
    "                    f.month(\"timestamp\").alias('month'), \n",
    "                    f.year(\"timestamp\").alias('year'), \n",
    "                    f.date_format(f.col(\"timestamp\"), \"E\").alias(\"weekday\")\n",
    "                ).sort(df.timestamp)\n",
    "    \n",
    "    print('Time_Table DataFrame Created')\n",
    "    \n",
    "    time_table.createOrReplaceTempView(\"time\")\n",
    "    \n",
    "    # write time table to parquet files partitioned by year and month\n",
    "   \n",
    "    time_table.write.parquet(output_data + 'time/' + 'time.parquet', partitionBy=['year','month'])\n",
    "    \n",
    "    print('Time_Table written to parquet at location:' + output_data+'time/'+'time.parquet')\n",
    "    \n",
    "    # read in song data to use for songplays table\n",
    "    #song_df = \n",
    "\n",
    "    # extract columns from joined song and log datasets to create songplays table \n",
    "    songplays_table =  spark.sql(\"\"\"\n",
    "                                 SELECT \n",
    "                                 row_number() over (order by l.ts) as songplay_id,\n",
    "                                 l.ts as start_time,\n",
    "                                 year(l.timestamp) year,\n",
    "                                 month(l.timestamp) month,\n",
    "                                 l.userId,\n",
    "                                 l.level,\n",
    "                                 s.song_id,\n",
    "                                 s.artist_id,\n",
    "                                 l.sessionId,\n",
    "                                 l.location,\n",
    "                                 l.userAgent\n",
    "                                 FROM logs l \n",
    "                                 JOIN songs s\n",
    "                                 ON l.artist=s.artist_name \n",
    "                                 AND l.song= s.title\n",
    "                                 and l.length = s.duration\n",
    "                                \"\"\")\n",
    "    \n",
    "    print('Songplay_Table DataFrame Created')\n",
    "\n",
    "    # write songplays table to parquet files partitioned by year and month\n",
    "    songplays_table.write.parquet(output_data + 'songplays/' + 'songplays.parquet',partitionBy=['year'],['month'])\n",
    "    \n",
    "    print('Songplay_Table written to parquet at location:' + output_data+'songplays/'+'songplays.parquet')"
   ]
  },
  {
   "cell_type": "code",
   "execution_count": 14,
   "metadata": {
    "editable": true
   },
   "outputs": [],
   "source": [
    "def main():\n",
    "    \"\"\"\n",
    "    The Main Function calls 3 different functions to create a spark session, to process the Song Data and to process the Log Data and assign aws credentials to process the data. \n",
    "        \"\"\"\n",
    "\n",
    "    # Load AWS credentials as env vars\n",
    "    config = configparser.ConfigParser()\n",
    "    config.read_file(open('dl.cfg'))\n",
    "    \n",
    "    os.environ[\"AWS_ACCESS_KEY_ID\"]= config['AWS']['AWS_ACCESS_KEY_ID']\n",
    "    os.environ[\"AWS_SECRET_ACCESS_KEY\"]= config['AWS']['AWS_SECRET_ACCESS_KEY']\n",
    "    \n",
    "    # Set input path and output path\n",
    "    input_data = \"s3a://udacity-dend/\"\n",
    "    output_data  = \"s3a://udacity-de-sparkify-datalake/\" \n",
    "        \n",
    "    # Create a Spark Session\n",
    "    spark = create_spark_session()\n",
    "    \n",
    "    # Run the ETL to Process song dataset and log dataset\n",
    "    process_song_data(spark, input_data, output_data)    \n",
    "    process_log_data(spark, input_data, output_data)\n",
    "     "
   ]
  },
  {
   "cell_type": "code",
   "execution_count": null,
   "metadata": {
    "editable": true
   },
   "outputs": [
    {
     "name": "stdout",
     "output_type": "stream",
     "text": [
      "song_data file preparation started\n",
      "song_datafile preparation completed\n"
     ]
    }
   ],
   "source": [
    "main()"
   ]
  },
  {
   "cell_type": "code",
   "execution_count": null,
   "metadata": {
    "editable": true
   },
   "outputs": [],
   "source": []
  },
  {
   "cell_type": "code",
   "execution_count": null,
   "metadata": {
    "editable": true
   },
   "outputs": [],
   "source": []
  },
  {
   "cell_type": "code",
   "execution_count": null,
   "metadata": {
    "editable": true
   },
   "outputs": [],
   "source": []
  }
 ],
 "metadata": {
  "kernelspec": {
   "display_name": "Python 3",
   "language": "python",
   "name": "python3"
  },
  "language_info": {
   "codemirror_mode": {
    "name": "ipython",
    "version": 3
   },
   "file_extension": ".py",
   "mimetype": "text/x-python",
   "name": "python",
   "nbconvert_exporter": "python",
   "pygments_lexer": "ipython3",
   "version": "3.6.3"
  }
 },
 "nbformat": 4,
 "nbformat_minor": 5
}
